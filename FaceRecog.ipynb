{
  "nbformat": 4,
  "nbformat_minor": 0,
  "metadata": {
    "colab": {
      "name": "FaceRecog.ipynb",
      "provenance": [],
      "collapsed_sections": [],
      "mount_file_id": "1vgVnaSsFvFW2KLqJGedlIReEkxJxZ1os",
      "authorship_tag": "ABX9TyPRK7iAONPS9cTtR70hDxdS",
      "include_colab_link": true
    },
    "kernelspec": {
      "name": "python3",
      "display_name": "Python 3"
    },
    "accelerator": "GPU"
  },
  "cells": [
    {
      "cell_type": "markdown",
      "metadata": {
        "id": "view-in-github",
        "colab_type": "text"
      },
      "source": [
        "<a href=\"https://colab.research.google.com/github/parasjain2426/CNN-Deeplearning/blob/master/FaceRecog.ipynb\" target=\"_parent\"><img src=\"https://colab.research.google.com/assets/colab-badge.svg\" alt=\"Open In Colab\"/></a>"
      ]
    },
    {
      "cell_type": "code",
      "metadata": {
        "id": "Z93gZlYi358n",
        "colab_type": "code",
        "colab": {
          "base_uri": "https://localhost:8080/",
          "height": 280
        },
        "outputId": "23fd0cde-915e-4945-8cf8-172502b9586e"
      },
      "source": [
        "!pip install mtcnn"
      ],
      "execution_count": 2,
      "outputs": [
        {
          "output_type": "stream",
          "text": [
            "Collecting mtcnn\n",
            "\u001b[?25l  Downloading https://files.pythonhosted.org/packages/67/43/abee91792797c609c1bf30f1112117f7a87a713ebaa6ec5201d5555a73ef/mtcnn-0.1.0-py3-none-any.whl (2.3MB)\n",
            "\u001b[K     |████████████████████████████████| 2.3MB 2.8MB/s \n",
            "\u001b[?25hRequirement already satisfied: opencv-python>=4.1.0 in /usr/local/lib/python3.6/dist-packages (from mtcnn) (4.1.2.30)\n",
            "Requirement already satisfied: keras>=2.0.0 in /usr/local/lib/python3.6/dist-packages (from mtcnn) (2.3.1)\n",
            "Requirement already satisfied: numpy>=1.11.3 in /usr/local/lib/python3.6/dist-packages (from opencv-python>=4.1.0->mtcnn) (1.18.4)\n",
            "Requirement already satisfied: h5py in /usr/local/lib/python3.6/dist-packages (from keras>=2.0.0->mtcnn) (2.10.0)\n",
            "Requirement already satisfied: keras-applications>=1.0.6 in /usr/local/lib/python3.6/dist-packages (from keras>=2.0.0->mtcnn) (1.0.8)\n",
            "Requirement already satisfied: six>=1.9.0 in /usr/local/lib/python3.6/dist-packages (from keras>=2.0.0->mtcnn) (1.12.0)\n",
            "Requirement already satisfied: keras-preprocessing>=1.0.5 in /usr/local/lib/python3.6/dist-packages (from keras>=2.0.0->mtcnn) (1.1.2)\n",
            "Requirement already satisfied: scipy>=0.14 in /usr/local/lib/python3.6/dist-packages (from keras>=2.0.0->mtcnn) (1.4.1)\n",
            "Requirement already satisfied: pyyaml in /usr/local/lib/python3.6/dist-packages (from keras>=2.0.0->mtcnn) (3.13)\n",
            "Installing collected packages: mtcnn\n",
            "Successfully installed mtcnn-0.1.0\n"
          ],
          "name": "stdout"
        }
      ]
    },
    {
      "cell_type": "code",
      "metadata": {
        "id": "BJ1Uf2Q57rVM",
        "colab_type": "code",
        "colab": {}
      },
      "source": [
        "#!/usr/bin/env python3.6\n",
        "\n",
        "from cv2 import *\n",
        "import tensorflow as tf\n",
        "from tensorflow.keras.models import load_model\n",
        "import numpy as np\n",
        "from PIL import Image\n",
        "from mtcnn.mtcnn import MTCNN\n",
        "\n",
        "def extract_face(image, required_size=(160, 160)):\n",
        "\t# convert to RGB, if needed\n",
        "\timage = image.convert('RGB')\n",
        "\t# convert to array\n",
        "\tpixels = np.asarray(image)\n",
        "\t# create the detector, using default weights\n",
        "\tdetector = MTCNN()\n",
        "\t# detect faces in the image\n",
        "\tresults = detector.detect_faces(pixels)\n",
        "\t# extract the bounding box from the first face\n",
        "\tx1, y1, width, height = results[0]['box']\n",
        "\t# bug fix\n",
        "\tx1, y1 = abs(x1), abs(y1)\n",
        "\tx2, y2 = x1 + width, y1 + height\n",
        "\t# extract the face\n",
        "\tface = pixels[y1:y2, x1:x2]\n",
        "\t# resize pixels to the model size\n",
        "\timage = Image.fromarray(face)\n",
        "\timage = image.resize(required_size)\n",
        "\tface_array = np.asarray(image)\n",
        "\treturn face_array\n",
        "\n",
        "def load_weights():\n",
        "    face_weight = []\n",
        "    with open('weight_file.txt','r') as f:\n",
        "        weights = f.readlines()\n",
        "        for i in weights:\n",
        "            x = i.split()\n",
        "            for j in x:\n",
        "                face_weight.append(float(j))\n",
        "    return face_weight            \n",
        "\n",
        "def face_model():\n",
        "    model = load_model('facenet_keras.h5')\n",
        "    f1 = load_weights()\n",
        "    return model,f1\n",
        "\n",
        "def take_photo():\n",
        "    cam = VideoCapture(0)   # 0 -> index of camera\n",
        "    s, img = cam.read()\n",
        "    if s:    # frame captured without any errors\n",
        "        imshow(\"cam-test\",img)\n",
        "        waitKey(0)\n",
        "        destroyWindow(\"cam-test\")\n",
        "        cam.release()\n",
        "        imwrite(\"f7.jpg\",img) #save image   \n",
        "    # load the photo and extract the face\n",
        "    pixels = extract_face(img)    \n",
        "    img = np.array([pixels])\n",
        "    model,f1 = face_model()\n",
        "    f2 = model.predict(img)\n",
        "    if(np.linalg.norm(f2-f1)<=2.99):\n",
        "        print(\"Welcome Paras Jain\")\n",
        "    else:\n",
        "        print(\"Welcome Guest\")  \n",
        "\n",
        "\n",
        "# Function to invoke System #\n",
        "take_photo()"
      ],
      "execution_count": 0,
      "outputs": []
    }
  ]
}