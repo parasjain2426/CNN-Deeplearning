{
  "nbformat": 4,
  "nbformat_minor": 0,
  "metadata": {
    "colab": {
      "name": "CNNprac.ipynb",
      "version": "0.3.2",
      "provenance": [],
      "collapsed_sections": []
    },
    "kernelspec": {
      "name": "python3",
      "display_name": "Python 3"
    }
  },
  "cells": [
    {
      "cell_type": "code",
      "metadata": {
        "id": "FQLrqJcNICyy",
        "colab_type": "code",
        "outputId": "55ea5c2e-286d-47a4-fe6b-00e9a3e4b417",
        "colab": {
          "base_uri": "https://localhost:8080/",
          "height": 50
        }
      },
      "source": [
        "import tensorflow as tf\n",
        "from tensorflow.keras.models import Sequential\n",
        "from tensorflow.keras.datasets import cifar10\n",
        "from tensorflow.keras.layers import Flatten,Dense,Conv2D,MaxPooling2D,Activation,Dropout\n",
        "(xtrain,ytrain),(xtest,ytest)=cifar10.load_data()\n",
        "# xtrain.shape\n",
        "# import glob  // this is used to upload an array of image as datasets\n",
        "# import cv2\n",
        "# import numpy as np\n",
        "\n",
        "# data = []\n",
        "# for i in glob.glob('path/to/my/data/**/*.png', recursive=True):\n",
        "#     data.append(cv2.imread(i))\n",
        "\n",
        "# data = np.stack(data)\n"
      ],
      "execution_count": 0,
      "outputs": [
        {
          "output_type": "stream",
          "text": [
            "Downloading data from https://www.cs.toronto.edu/~kriz/cifar-10-python.tar.gz\n",
            "170500096/170498071 [==============================] - 4s 0us/step\n"
          ],
          "name": "stdout"
        }
      ]
    },
    {
      "cell_type": "code",
      "metadata": {
        "id": "vJYLGRx9I4fe",
        "colab_type": "code",
        "outputId": "a161ecb0-4dbf-4e1f-9373-c11dbc54aa43",
        "colab": {
          "base_uri": "https://localhost:8080/",
          "height": 34
        }
      },
      "source": [
        "# import cv2\n",
        "# data=cv2.imread('cat.1.jpg')\n",
        "# import matplotlib.pyplot as plt\n",
        "# plt.imshow(data)\n",
        "# #dim=(28,28)\n",
        "# #data=cv2.resize(data,dim,interpolation = cv2.INTER_AREA)\n",
        "# #plt.imshow(data)\n",
        "# #prac=np.asarray(data)\n",
        "# #print(prac.shape)\n",
        "xtrain.shape"
      ],
      "execution_count": 0,
      "outputs": [
        {
          "output_type": "execute_result",
          "data": {
            "text/plain": [
              "(50000, 32, 32, 3)"
            ]
          },
          "metadata": {
            "tags": []
          },
          "execution_count": 4
        }
      ]
    },
    {
      "cell_type": "code",
      "metadata": {
        "id": "_TwUtj3OSRnd",
        "colab_type": "code",
        "colab": {}
      },
      "source": [
        "#import pickle\n",
        "#pickle_in=open('X.pickle','rb')\n",
        "#X=pickle.load(pickle_in)\n",
        "\n",
        "#pickle_in=open('Y.pickle','rb')\n",
        "#Y=pickle.load(pickle_in)\n",
        "\n",
        "X=tf.keras.utils.normalize(xtrain)\n",
        "model=Sequential()\n",
        "\n",
        "model.add(Conv2D(256,(3,3),input_shape=X.shape[1:]))\n",
        "model.add(Activation('relu'))\n",
        "model.add(MaxPooling2D(pool_size=(2,2)))\n",
        "\n",
        "model.add(Conv2D(256,(3,3)))\n",
        "model.add(Activation('relu'))\n",
        "model.add(MaxPooling2D(pool_size=(2,2)))\n",
        "\n",
        "model.add(Flatten())\n",
        "\n",
        "model.add(Dense(64))\n",
        "\n",
        "model.add(Dense(1))\n",
        "model.add(Activation('sigmoid'))\n",
        "\n",
        "\n",
        "model.compile(loss='binary_crossentropy',\n",
        "              optimizer='adam',\n",
        "              metrics=['accuracy'])\n",
        "\n",
        "model.fit(X, ytrain, batch_size=32,epochs=3, validation_split=0.3)"
      ],
      "execution_count": 0,
      "outputs": []
    },
    {
      "cell_type": "code",
      "metadata": {
        "id": "h_b3Pn7cbgiO",
        "colab_type": "code",
        "colab": {}
      },
      "source": [
        "import numpy as np\n",
        "x=np.array([[2],[3],[4],[5]])\n",
        "y=np.array([[1],[2],[3],[4]])\n"
      ],
      "execution_count": 0,
      "outputs": []
    }
  ]
}